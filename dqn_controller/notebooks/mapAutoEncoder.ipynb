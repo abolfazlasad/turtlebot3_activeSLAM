{
 "cells": [
  {
   "cell_type": "code",
   "execution_count": 7,
   "metadata": {},
   "outputs": [],
   "source": [
    "import os\n",
    "import numpy as np\n",
    "import matplotlib.pyplot as plt\n",
    "from sklearn.model_selection import train_test_split\n",
    "\n",
    "import torch\n",
    "import torch.nn as nn\n",
    "import torch.optim as optim\n",
    "import torch.utils.data as data_utils\n",
    "import torchvision.transforms as transforms\n"
   ]
  },
  {
   "cell_type": "code",
   "execution_count": 8,
   "metadata": {},
   "outputs": [
    {
     "data": {
      "text/plain": [
       "device(type='cuda')"
      ]
     },
     "execution_count": 8,
     "metadata": {},
     "output_type": "execute_result"
    }
   ],
   "source": [
    "device = torch.device('cuda' if torch.cuda.is_available() else 'cpu')\n",
    "device"
   ]
  },
  {
   "cell_type": "code",
   "execution_count": 27,
   "metadata": {},
   "outputs": [],
   "source": [
    "log_dir = \"/home/asad/catkin_ws2/src/turtlebot3_activeSLAM/dqn_controller/log/\"\n",
    "\n",
    "maps = np.concatenate([np.load(log_dir + f + \"/maps.npy\") for f in os.listdir(log_dir) if f.find(\"2023\") == 0], axis=0)\n",
    "\n",
    "maps[maps == 100] = 1\n",
    "maps += 1\n",
    "maps = torch.from_numpy(maps).to(torch.float32)\n",
    "maps /= maps.max()\n",
    "\n",
    "maps = maps.reshape(-1, 1, 384, 384)\n"
   ]
  },
  {
   "cell_type": "code",
   "execution_count": 28,
   "metadata": {},
   "outputs": [
    {
     "data": {
      "text/plain": [
       "torch.Size([11849, 1, 384, 384])"
      ]
     },
     "execution_count": 28,
     "metadata": {},
     "output_type": "execute_result"
    }
   ],
   "source": [
    "maps.shape"
   ]
  },
  {
   "cell_type": "code",
   "execution_count": 29,
   "metadata": {},
   "outputs": [],
   "source": [
    "s = maps.sum(axis=[-1, -2]) / (384 * 384)"
   ]
  },
  {
   "cell_type": "code",
   "execution_count": 35,
   "metadata": {},
   "outputs": [],
   "source": [
    "# plt.figure(figsize=(20, 10))\n",
    "# plt.plot(s[:1000])"
   ]
  },
  {
   "cell_type": "code",
   "execution_count": 31,
   "metadata": {},
   "outputs": [
    {
     "data": {
      "text/plain": [
       "torch.Size([11849, 1, 384, 384])"
      ]
     },
     "execution_count": 31,
     "metadata": {},
     "output_type": "execute_result"
    }
   ],
   "source": [
    "maps.shape"
   ]
  },
  {
   "cell_type": "code",
   "execution_count": 12,
   "metadata": {},
   "outputs": [
    {
     "data": {
      "image/png": "[encoded data removed]",
      "text/plain": [
       "<Figure size 432x288 with 2 Axes>"
      ]
     },
     "metadata": {
      "needs_background": "light"
     },
     "output_type": "display_data"
    }
   ],
   "source": [
    "plt.subplot(1, 2, 1)\n",
    "plt.imshow(maps[0].numpy().reshape(384, 384))\n",
    "# plt.show()\n",
    "plt.subplot(1, 2, 2)\n",
    "plt.imshow(maps[-1].numpy().reshape(384, 384))\n",
    "plt.show()"
   ]
  },
  {
   "cell_type": "code",
   "execution_count": 13,
   "metadata": {},
   "outputs": [
    {
     "data": {
      "text/plain": [
       "torch.Size([10, 256])"
      ]
     },
     "execution_count": 13,
     "metadata": {},
     "output_type": "execute_result"
    }
   ],
   "source": [
    "class Encoder(nn.Module):\n",
    "    def __init__(self) -> None:\n",
    "        super(Encoder, self).__init__()\n",
    "        self.encoder = nn.Sequential(\n",
    "            nn.Conv2d(1, 4, kernel_size=3),\n",
    "            nn.ReLU(),\n",
    "            nn.Conv2d(4, 4, kernel_size=3),\n",
    "            nn.ReLU(),\n",
    "            nn.MaxPool2d((2, 2)),\n",
    "\n",
    "            nn.Conv2d(4, 16, kernel_size=3),\n",
    "            nn.ReLU(),\n",
    "            nn.Conv2d(16, 16, kernel_size=3),\n",
    "            nn.ReLU(),\n",
    "            nn.MaxPool2d((2, 2)),\n",
    "\n",
    "            nn.Conv2d(16, 32, kernel_size=3, stride=2),\n",
    "            nn.ReLU(),\n",
    "            nn.Conv2d(32, 32, kernel_size=3, stride=2),\n",
    "            nn.ReLU(),\n",
    "            nn.MaxPool2d((2, 2)),\n",
    "\n",
    "            nn.Conv2d(32, 64, kernel_size=3, stride=2),\n",
    "            nn.ReLU(),\n",
    "            nn.Conv2d(64, 64, kernel_size=3, stride=2),\n",
    "            nn.ReLU(),\n",
    "            nn.Flatten()\n",
    "        )\n",
    "\n",
    "    def forward(self, x):\n",
    "        x = self.encoder(x)\n",
    "        return x\n",
    "\n",
    "\n",
    "encoder = Encoder()\n",
    "m = torch.rand(10, 1, 384, 384)\n",
    "encoder(m).shape"
   ]
  },
  {
   "cell_type": "code",
   "execution_count": 14,
   "metadata": {},
   "outputs": [
    {
     "data": {
      "text/plain": [
       "torch.Size([10, 1, 384, 384])"
      ]
     },
     "execution_count": 14,
     "metadata": {},
     "output_type": "execute_result"
    }
   ],
   "source": [
    "class Decoder(nn.Module):\n",
    "    def __init__(self) -> None:\n",
    "        super(Decoder, self).__init__()\n",
    "        self.decoder = nn.Sequential(\n",
    "            nn.ConvTranspose2d(64, 64, kernel_size=3, stride=2),\n",
    "            nn.ReLU(),\n",
    "            nn.ConvTranspose2d(64, 32, kernel_size=3, stride=2),\n",
    "            nn.ReLU(),\n",
    "\n",
    "            nn.Upsample(scale_factor=2),\n",
    "            nn.ConvTranspose2d(32, 32, kernel_size=3, stride=2, output_padding=1),\n",
    "            nn.ReLU(),\n",
    "            nn.ConvTranspose2d(32, 16, kernel_size=3, stride=2),\n",
    "            nn.ReLU(),\n",
    "            \n",
    "            nn.Upsample(scale_factor=2),\n",
    "            nn.ConvTranspose2d(16, 16, kernel_size=3),\n",
    "            nn.ReLU(),\n",
    "            nn.ConvTranspose2d(16, 4, kernel_size=3),\n",
    "            nn.ReLU(),\n",
    "\n",
    "            nn.Upsample(scale_factor=2),\n",
    "            nn.ConvTranspose2d(4, 4, kernel_size=3),\n",
    "            nn.ReLU(),\n",
    "            nn.ConvTranspose2d(4, 1, kernel_size=3),\n",
    "            nn.ReLU(),\n",
    "        )\n",
    "\n",
    "    def forward(self, x):\n",
    "        x = x.reshape(-1, 64, 2, 2)\n",
    "        x = self.decoder(x)\n",
    "        return x\n",
    "\n",
    "\n",
    "decoder = Decoder()\n",
    "m = torch.rand(10, 256)\n",
    "decoder(m).shape"
   ]
  },
  {
   "cell_type": "code",
   "execution_count": 15,
   "metadata": {},
   "outputs": [],
   "source": [
    "class Autoencoder(nn.Module):\n",
    "    def __init__(self) -> None:\n",
    "        super(Autoencoder, self).__init__()\n",
    "        self.encoder = Encoder()\n",
    "        self.decoder = Decoder()\n",
    "\n",
    "    def forward(self, x):\n",
    "        x = self.encoder(x)\n",
    "        x = self.decoder(x)\n",
    "\n",
    "        return x\n",
    "\n",
    "\n",
    "autoencoder = Autoencoder()"
   ]
  },
  {
   "cell_type": "code",
   "execution_count": 16,
   "metadata": {},
   "outputs": [],
   "source": [
    "cirterion = nn.MSELoss()\n",
    "optimizer = optim.Adam(autoencoder.parameters(), lr=0.001)"
   ]
  },
  {
   "cell_type": "code",
   "execution_count": 17,
   "metadata": {},
   "outputs": [],
   "source": [
    "maps = maps.to(device)\n",
    "autoencoder = autoencoder.to(device)"
   ]
  },
  {
   "cell_type": "code",
   "execution_count": 18,
   "metadata": {},
   "outputs": [],
   "source": [
    "dataset = data_utils.TensorDataset(maps)\n",
    "data_loader = data_utils.DataLoader(dataset, batch_size=128, shuffle=True)"
   ]
  },
  {
   "cell_type": "code",
   "execution_count": null,
   "metadata": {},
   "outputs": [],
   "source": []
  },
  {
   "cell_type": "code",
   "execution_count": 401,
   "metadata": {},
   "outputs": [
    {
     "name": "stdout",
     "output_type": "stream",
     "text": [
      "Epoch [1/10], Step [5/15], Loss: 0.0016\n",
      "Epoch [1/10], Step [10/15], Loss: 0.0016\n",
      "Epoch [1/10], Step [15/15], Loss: 0.0016\n",
      "Epoch [1/10], Average Loss: 0.0016\n",
      "\n",
      "Epoch [2/10], Step [5/15], Loss: 0.0017\n",
      "Epoch [2/10], Step [10/15], Loss: 0.0015\n",
      "Epoch [2/10], Step [15/15], Loss: 0.0016\n",
      "Epoch [2/10], Average Loss: 0.0016\n",
      "\n",
      "Epoch [3/10], Step [5/15], Loss: 0.0017\n",
      "Epoch [3/10], Step [10/15], Loss: 0.0016\n",
      "Epoch [3/10], Step [15/15], Loss: 0.0015\n",
      "Epoch [3/10], Average Loss: 0.0016\n",
      "\n",
      "Epoch [4/10], Step [5/15], Loss: 0.0015\n",
      "Epoch [4/10], Step [10/15], Loss: 0.0016\n",
      "Epoch [4/10], Step [15/15], Loss: 0.0016\n",
      "Epoch [4/10], Average Loss: 0.0015\n",
      "\n",
      "Epoch [5/10], Step [5/15], Loss: 0.0015\n",
      "Epoch [5/10], Step [10/15], Loss: 0.0015\n",
      "Epoch [5/10], Step [15/15], Loss: 0.0016\n",
      "Epoch [5/10], Average Loss: 0.0015\n",
      "\n",
      "Epoch [6/10], Step [5/15], Loss: 0.0017\n",
      "Epoch [6/10], Step [10/15], Loss: 0.0016\n",
      "Epoch [6/10], Step [15/15], Loss: 0.0015\n",
      "Epoch [6/10], Average Loss: 0.0016\n",
      "\n",
      "Epoch [7/10], Step [5/15], Loss: 0.0015\n",
      "Epoch [7/10], Step [10/15], Loss: 0.0015\n",
      "Epoch [7/10], Step [15/15], Loss: 0.0015\n",
      "Epoch [7/10], Average Loss: 0.0015\n",
      "\n",
      "Epoch [8/10], Step [5/15], Loss: 0.0015\n",
      "Epoch [8/10], Step [10/15], Loss: 0.0015\n",
      "Epoch [8/10], Step [15/15], Loss: 0.0016\n",
      "Epoch [8/10], Average Loss: 0.0015\n",
      "\n",
      "Epoch [9/10], Step [5/15], Loss: 0.0015\n",
      "Epoch [9/10], Step [10/15], Loss: 0.0015\n",
      "Epoch [9/10], Step [15/15], Loss: 0.0016\n",
      "Epoch [9/10], Average Loss: 0.0015\n",
      "\n",
      "Epoch [10/10], Step [5/15], Loss: 0.0017\n",
      "Epoch [10/10], Step [10/15], Loss: 0.0017\n",
      "Epoch [10/10], Step [15/15], Loss: 0.0014\n",
      "Epoch [10/10], Average Loss: 0.0016\n",
      "\n"
     ]
    }
   ],
   "source": [
    "num_epochs = 10\n",
    "\n",
    "for epoch in range(num_epochs):\n",
    "    total_loss = 0.\n",
    "    for i, [img] in enumerate(data_loader):\n",
    "        outputs = autoencoder(img)\n",
    "        loss = cirterion(outputs, img)\n",
    "        optimizer.zero_grad()\n",
    "        loss.backward()\n",
    "        optimizer.step()\n",
    "\n",
    "        total_loss += loss.item()\n",
    "        if (i + 1) % 5 == 0:\n",
    "                print(f\"Epoch [{epoch + 1}/{num_epochs}], Step [{i + 1}/{len(data_loader)}], Loss: {loss.item():.4f}\")\n",
    "\n",
    "    print(f\"Epoch [{epoch + 1}/{num_epochs}], Average Loss: {total_loss / len(data_loader):.4f}\")\n",
    "    print()"
   ]
  },
  {
   "cell_type": "code",
   "execution_count": 19,
   "metadata": {},
   "outputs": [],
   "source": [
    "index = 5\n",
    "\n",
    "\n",
    "def f(index):\n",
    "    plt.figure(figsize=(20, 10))\n",
    "    plt.subplot(1, 2, 2)\n",
    "    plt.imshow(maps_test[index].cpu().squeeze())\n",
    "\n",
    "    with torch.no_grad():\n",
    "        result = autoencoder(maps_test[index])\n",
    "    plt.subplot(1, 2, 1)\n",
    "    plt.imshow(result.reshape(384, 384).cpu().numpy())\n",
    "    plt.show()"
   ]
  },
  {
   "cell_type": "code",
   "execution_count": 34,
   "metadata": {},
   "outputs": [],
   "source": [
    "# f(164)"
   ]
  },
  {
   "cell_type": "code",
   "execution_count": 33,
   "metadata": {},
   "outputs": [],
   "source": [
    "# for i in range(100):\n",
    "    # print(i)\n",
    "    # f(i)"
   ]
  },
  {
   "cell_type": "code",
   "execution_count": null,
   "metadata": {},
   "outputs": [],
   "source": []
  },
  {
   "cell_type": "code",
   "execution_count": null,
   "metadata": {},
   "outputs": [],
   "source": []
  },
  {
   "cell_type": "code",
   "execution_count": 409,
   "metadata": {},
   "outputs": [
    {
     "data": {
      "text/plain": [
       "tensor([[0., 0., 0.,  ..., 0., 0., 0.],\n",
       "        [0., 0., 0.,  ..., 0., 0., 0.],\n",
       "        [0., 0., 0.,  ..., 0., 0., 0.],\n",
       "        ...,\n",
       "        [0., 0., 0.,  ..., 0., 0., 0.],\n",
       "        [0., 0., 0.,  ..., 0., 0., 0.],\n",
       "        [0., 0., 0.,  ..., 0., 0., 0.]], device='cuda:0')"
      ]
     },
     "execution_count": 409,
     "metadata": {},
     "output_type": "execute_result"
    }
   ],
   "source": [
    "maps[0].squeeze()"
   ]
  },
  {
   "cell_type": "code",
   "execution_count": null,
   "metadata": {},
   "outputs": [],
   "source": []
  },
  {
   "cell_type": "code",
   "execution_count": 90,
   "metadata": {},
   "outputs": [
    {
     "name": "stderr",
     "output_type": "stream",
     "text": [
      "/home/asad/.local/lib/python3.8/site-packages/torchvision/transforms/functional.py:1603: UserWarning: The default value of the antialias parameter of all the resizing transforms (Resize(), RandomResizedCrop(), etc.) will change from None to True in v0.17, in order to be consistent across the PIL and Tensor backends. To suppress this warning, directly pass antialias=True (recommended, future default), antialias=None (current default, which means False for Tensors and True for PIL), or antialias=False (only works on Tensors - PIL will still use antialiasing). This also applies if you are using the inference transforms from the models weights: update the call to weights.transforms(antialias=True).\n",
      "  warnings.warn(\n"
     ]
    },
    {
     "data": {
      "text/plain": [
       "<matplotlib.image.AxesImage at 0x7f1f6d6e0bb0>"
      ]
     },
     "execution_count": 90,
     "metadata": {},
     "output_type": "execute_result"
    },
    {
     "data": {
      "image/png": "[encoded data removed]",
      "text/plain": [
       "<Figure size 432x288 with 1 Axes>"
      ]
     },
     "metadata": {
      "needs_background": "light"
     },
     "output_type": "display_data"
    }
   ],
   "source": [
    "plt.imshow(transforms.Resize((100, 100))(torch.from_numpy(maps[:1])).reshape(100, 100))"
   ]
  },
  {
   "cell_type": "code",
   "execution_count": 277,
   "metadata": {},
   "outputs": [
    {
     "data": {
      "text/plain": [
       "<matplotlib.image.AxesImage at 0x7f1f41b9b700>"
      ]
     },
     "execution_count": 277,
     "metadata": {},
     "output_type": "execute_result"
    },
    {
     "data": {
      "image/png": "[encoded data removed]",
      "text/plain": [
       "<Figure size 432x288 with 1 Axes>"
      ]
     },
     "metadata": {
      "needs_background": "light"
     },
     "output_type": "display_data"
    }
   ],
   "source": [
    "plt.imshow(maps[0])"
   ]
  },
  {
   "cell_type": "code",
   "execution_count": 23,
   "metadata": {},
   "outputs": [
    {
     "data": {
      "image/png": "[encoded data removed]",
      "text/plain": [
       "<Figure size 432x288 with 1 Axes>"
      ]
     },
     "metadata": {
      "needs_background": "light"
     },
     "output_type": "display_data"
    }
   ],
   "source": [
    "plt.imshow(maps[-1])\n",
    "plt.show()"
   ]
  },
  {
   "cell_type": "code",
   "execution_count": null,
   "metadata": {},
   "outputs": [],
   "source": []
  }
 ],
 "metadata": {
  "kernelspec": {
   "display_name": "Python 3",
   "language": "python",
   "name": "python3"
  },
  "language_info": {
   "codemirror_mode": {
    "name": "ipython",
    "version": 3
   },
   "file_extension": ".py",
   "mimetype": "text/x-python",
   "name": "python",
   "nbconvert_exporter": "python",
   "pygments_lexer": "ipython3",
   "version": "3.8.10"
  },
  "orig_nbformat": 4
 },
 "nbformat": 4,
 "nbformat_minor": 2
}
